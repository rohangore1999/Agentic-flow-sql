{
 "cells": [
  {
   "cell_type": "markdown",
   "metadata": {},
   "source": [
    "# Flow of SQL Agent\n",
    "\n",
    "![SQL Agent flow image](sql-agent-flow.png \"Sql Agent Flow\")\n"
   ]
  },
  {
   "cell_type": "code",
   "execution_count": 8,
   "metadata": {},
   "outputs": [
    {
     "data": {
      "text/plain": [
       "<sqlite3.Connection at 0x109774e50>"
      ]
     },
     "execution_count": 8,
     "metadata": {},
     "output_type": "execute_result"
    }
   ],
   "source": [
    "import sqlite3\n",
    "\n",
    "# create a database\n",
    "connection = sqlite3.connect(\"mydb.db\")\n",
    "connection"
   ]
  },
  {
   "cell_type": "code",
   "execution_count": 9,
   "metadata": {},
   "outputs": [],
   "source": [
    "# Creating tables Schemas\n",
    "table_creation_query=\"\"\"\n",
    "CREATE TABLE IF NOT EXISTS employees (\n",
    "    emp_id INTEGER PRIMARY KEY,\n",
    "    first_name TEXT NOT NULL,\n",
    "    last_name TEXT NOT NULL,\n",
    "    email TEXT UNIQUE NOT NULL,\n",
    "    hire_date TEXT NOT NULL,\n",
    "    salary REAL NOT NULL\n",
    ");\n",
    "\"\"\"\n",
    "\n",
    "table_creation_query2=\"\"\"\n",
    "CREATE TABLE IF NOT EXISTS customers (\n",
    "    customer_id INTEGER PRIMARY KEY AUTOINCREMENT,\n",
    "    first_name TEXT NOT NULL,\n",
    "    last_name TEXT NOT NULL,\n",
    "    email TEXT UNIQUE NOT NULL,\n",
    "    phone TEXT\n",
    ");\n",
    "\"\"\"\n",
    "\n",
    "table_creation_query3=\"\"\"\n",
    "CREATE TABLE IF NOT EXISTS orders (\n",
    "    order_id INTEGER PRIMARY KEY AUTOINCREMENT,\n",
    "    customer_id INTEGER NOT NULL,\n",
    "    order_date TEXT NOT NULL,\n",
    "    amount REAL NOT NULL,\n",
    "    FOREIGN KEY (customer_id) REFERENCES customers (customer_id)\n",
    ");\n",
    "\n",
    "\"\"\""
   ]
  },
  {
   "cell_type": "code",
   "execution_count": 10,
   "metadata": {},
   "outputs": [
    {
     "data": {
      "text/plain": [
       "<sqlite3.Cursor at 0x1096ec940>"
      ]
     },
     "execution_count": 10,
     "metadata": {},
     "output_type": "execute_result"
    }
   ],
   "source": [
    "# Connection to the database via cursor\n",
    "cursor=connection.cursor()\n",
    "\n",
    "# execute the table creation queries via cursor\n",
    "cursor.execute(table_creation_query)\n",
    "cursor.execute(table_creation_query2)\n",
    "cursor.execute(table_creation_query3)"
   ]
  },
  {
   "cell_type": "code",
   "execution_count": 11,
   "metadata": {},
   "outputs": [
    {
     "data": {
      "text/plain": [
       "<sqlite3.Cursor at 0x1096ec940>"
      ]
     },
     "execution_count": 11,
     "metadata": {},
     "output_type": "execute_result"
    }
   ],
   "source": [
    "# Inserting data into the tables\n",
    "\n",
    "# Insert Data Schema\n",
    "insert_query = \"\"\"\n",
    "INSERT INTO employees (emp_id, first_name, last_name, email, hire_date, salary)\n",
    "VALUES (?, ?, ?, ?, ?, ?);\n",
    "\"\"\"\n",
    "\n",
    "insert_query_customers = \"\"\"\n",
    "INSERT INTO customers (customer_id, first_name, last_name, email, phone)\n",
    "VALUES (?, ?, ?, ?, ?);\n",
    "\"\"\"\n",
    "\n",
    "insert_query_orders = \"\"\"\n",
    "INSERT INTO orders (order_id, customer_id, order_date, amount)\n",
    "VALUES (?, ?, ?, ?);\n",
    "\"\"\"\n",
    "\n",
    "# Insert Data\n",
    "employee_data = [\n",
    "    (1, \"Sunny\", \"Savita\", \"sunny.sv@abc.com\", \"2023-06-01\", 50000.00),\n",
    "    (2, \"Arhun\", \"Meheta\", \"arhun.m@gmail.com\", \"2022-04-15\", 60000.00),\n",
    "    (3, \"Alice\", \"Johnson\", \"alice.johnson@jpg.com\", \"2021-09-30\", 55000.00),\n",
    "    (4, \"Bob\", \"Brown\", \"bob.brown@uio.com\", \"2020-01-20\", 45000.00),\n",
    "    ]\n",
    "\n",
    "customers_data = [\n",
    "    (1, \"John\", \"Doe\", \"john.doe@example.com\", \"1234567890\"),\n",
    "    (2, \"Jane\", \"Smith\", \"jane.smith@example.com\", \"9876543210\"),\n",
    "    (3, \"Emily\", \"Davis\", \"emily.davis@example.com\", \"4567891230\"),\n",
    "    (4, \"Michael\", \"Brown\", \"michael.brown@example.com\", \"7894561230\"),\n",
    "]\n",
    "\n",
    "orders_data = [\n",
    "    (1, 1, \"2023-12-01\", 250.75),\n",
    "    (2, 2, \"2023-11-20\", 150.50),\n",
    "    (3, 3, \"2023-11-25\", 300.00),\n",
    "    (4, 4, \"2023-12-02\", 450.00),\n",
    "]\n",
    "\n",
    "# Execute the insert queries via cursor\n",
    "cursor.executemany(insert_query,employee_data)\n",
    "cursor.executemany(insert_query_customers,customers_data)\n",
    "cursor.executemany(insert_query_orders,orders_data)"
   ]
  },
  {
   "cell_type": "code",
   "execution_count": 12,
   "metadata": {},
   "outputs": [],
   "source": [
    "# Commit the changes to the database\n",
    "connection.commit()"
   ]
  },
  {
   "cell_type": "markdown",
   "metadata": {},
   "source": [
    "### Listing Tables"
   ]
  },
  {
   "cell_type": "code",
   "execution_count": 13,
   "metadata": {},
   "outputs": [
    {
     "name": "stdout",
     "output_type": "stream",
     "text": [
      "(1, 'Sunny', 'Savita', 'sunny.sv@abc.com', '2023-06-01', 50000.0)\n",
      "(2, 'Arhun', 'Meheta', 'arhun.m@gmail.com', '2022-04-15', 60000.0)\n",
      "(3, 'Alice', 'Johnson', 'alice.johnson@jpg.com', '2021-09-30', 55000.0)\n",
      "(4, 'Bob', 'Brown', 'bob.brown@uio.com', '2020-01-20', 45000.0)\n"
     ]
    }
   ],
   "source": [
    "# Execute a query to fetch all order\n",
    "cursor.execute(\"select * from employees\")\n",
    "\n",
    "for row in cursor.fetchall():\n",
    "    print(row)"
   ]
  },
  {
   "cell_type": "code",
   "execution_count": 14,
   "metadata": {},
   "outputs": [
    {
     "name": "stdout",
     "output_type": "stream",
     "text": [
      "(1, 'John', 'Doe', 'john.doe@example.com', '1234567890')\n",
      "(2, 'Jane', 'Smith', 'jane.smith@example.com', '9876543210')\n",
      "(3, 'Emily', 'Davis', 'emily.davis@example.com', '4567891230')\n",
      "(4, 'Michael', 'Brown', 'michael.brown@example.com', '7894561230')\n"
     ]
    }
   ],
   "source": [
    "# Execute a query to fetch all order\n",
    "cursor.execute(\"select * from customers\")\n",
    "\n",
    "for row in cursor.fetchall():\n",
    "    print(row)"
   ]
  },
  {
   "cell_type": "code",
   "execution_count": 15,
   "metadata": {},
   "outputs": [
    {
     "name": "stdout",
     "output_type": "stream",
     "text": [
      "(1, 1, '2023-12-01', 250.75)\n",
      "(2, 2, '2023-11-20', 150.5)\n",
      "(3, 3, '2023-11-25', 300.0)\n",
      "(4, 4, '2023-12-02', 450.0)\n"
     ]
    }
   ],
   "source": [
    "# Execute a query to fetch all order\n",
    "cursor.execute(\"select * from orders\")\n",
    "\n",
    "for row in cursor.fetchall():\n",
    "    print(row)"
   ]
  },
  {
   "cell_type": "code",
   "execution_count": 16,
   "metadata": {},
   "outputs": [
    {
     "name": "stdout",
     "output_type": "stream",
     "text": [
      "Employees Table:\n",
      "   emp_id first_name last_name                  email   hire_date   salary\n",
      "0       1      Sunny    Savita       sunny.sv@abc.com  2023-06-01  50000.0\n",
      "1       2      Arhun    Meheta      arhun.m@gmail.com  2022-04-15  60000.0\n",
      "2       3      Alice   Johnson  alice.johnson@jpg.com  2021-09-30  55000.0\n",
      "3       4        Bob     Brown      bob.brown@uio.com  2020-01-20  45000.0\n",
      "\n",
      "\n",
      "Customers Table:\n",
      "   customer_id first_name last_name                      email       phone\n",
      "0            1       John       Doe       john.doe@example.com  1234567890\n",
      "1            2       Jane     Smith     jane.smith@example.com  9876543210\n",
      "2            3      Emily     Davis    emily.davis@example.com  4567891230\n",
      "3            4    Michael     Brown  michael.brown@example.com  7894561230\n",
      "\n",
      "\n",
      "Orders Table:\n",
      "   order_id  customer_id  order_date  amount\n",
      "0         1            1  2023-12-01  250.75\n",
      "1         2            2  2023-11-20  150.50\n",
      "2         3            3  2023-11-25  300.00\n",
      "3         4            4  2023-12-02  450.00\n"
     ]
    }
   ],
   "source": [
    "import pandas as pd\n",
    "\n",
    "def display_table(connection, table_name):\n",
    "    # Create a cursor\n",
    "    cursor = connection.cursor()\n",
    "    \n",
    "    # Execute query\n",
    "    cursor.execute(f'SELECT * FROM {table_name}')\n",
    "    \n",
    "    # Get column names\n",
    "    columns = [description[0] for description in cursor.description]\n",
    "    \n",
    "    # Convert to DataFrame\n",
    "    df = pd.DataFrame(cursor.fetchall(), columns=columns)\n",
    "    \n",
    "    # Return the DataFrame\n",
    "    return df\n",
    "\n",
    "# Example usage:\n",
    "print(\"Employees Table:\")\n",
    "employees_df = display_table(connection, 'employees')\n",
    "print(employees_df)\n",
    "print(\"\\n\")\n",
    "\n",
    "print(\"Customers Table:\")\n",
    "customers_df = display_table(connection, 'customers')\n",
    "print(customers_df)\n",
    "print(\"\\n\")\n",
    "\n",
    "print(\"Orders Table:\")\n",
    "orders_df = display_table(connection, 'orders')\n",
    "print(orders_df)\n"
   ]
  },
  {
   "cell_type": "code",
   "execution_count": 17,
   "metadata": {},
   "outputs": [],
   "source": [
    "# From Langchain Community we are importing SQLDatabase to execute the queries through the agent on db\n",
    "from langchain_community.utilities import SQLDatabase"
   ]
  },
  {
   "cell_type": "code",
   "execution_count": 18,
   "metadata": {},
   "outputs": [
    {
     "data": {
      "text/plain": [
       "<langchain_community.utilities.sql_database.SQLDatabase at 0x10e1fe270>"
      ]
     },
     "execution_count": 18,
     "metadata": {},
     "output_type": "execute_result"
    }
   ],
   "source": [
    "# Creating a SQLDatabase object -> mydb.db from the local directory\n",
    "db = SQLDatabase.from_uri(\"sqlite:///mydb.db\")\n",
    "db"
   ]
  },
  {
   "cell_type": "code",
   "execution_count": 19,
   "metadata": {},
   "outputs": [
    {
     "data": {
      "text/plain": [
       "['customers', 'employees', 'orders']"
      ]
     },
     "execution_count": 19,
     "metadata": {},
     "output_type": "execute_result"
    }
   ],
   "source": [
    "# Example of getting the table names through untility tool\n",
    "db.get_usable_table_names()"
   ]
  },
  {
   "cell_type": "markdown",
   "metadata": {},
   "source": [
    "### Loading Model: llama from ChatGroq"
   ]
  },
  {
   "cell_type": "code",
   "execution_count": 20,
   "metadata": {},
   "outputs": [
    {
     "data": {
      "text/plain": [
       "ChatGroq(client=<groq.resources.chat.completions.Completions object at 0x10f621e80>, async_client=<groq.resources.chat.completions.AsyncCompletions object at 0x10f6442f0>, model_name='llama3-8b-8192', model_kwargs={}, groq_api_key=SecretStr('**********'))"
      ]
     },
     "execution_count": 20,
     "metadata": {},
     "output_type": "execute_result"
    }
   ],
   "source": [
    "import os\n",
    "from dotenv import load_dotenv\n",
    "\n",
    "load_dotenv()\n",
    "\n",
    "from langchain_groq import ChatGroq\n",
    "\n",
    "\n",
    "llm = ChatGroq(model=\"llama3-8b-8192\", api_key=os.getenv(\"GROQ_API_KEY\"))\n",
    "llm"
   ]
  },
  {
   "cell_type": "code",
   "execution_count": 21,
   "metadata": {},
   "outputs": [
    {
     "data": {
      "text/plain": [
       "AIMessage(content=\"Hello! I'm just an AI, so I don't have feelings or emotions like humans do, but I'm functioning properly and ready to help with any questions or tasks you may have. How can I assist you today?\", additional_kwargs={}, response_metadata={'token_usage': {'completion_tokens': 46, 'prompt_tokens': 16, 'total_tokens': 62, 'completion_time': 0.038333333, 'prompt_time': 0.003131164, 'queue_time': 0.23715138700000002, 'total_time': 0.041464497}, 'model_name': 'llama3-8b-8192', 'system_fingerprint': 'fp_dadc9d6142', 'finish_reason': 'stop', 'logprobs': None}, id='run-ebfd7332-3113-450b-b41e-9afc21871a0c-0', usage_metadata={'input_tokens': 16, 'output_tokens': 46, 'total_tokens': 62})"
      ]
     },
     "execution_count": 21,
     "metadata": {},
     "output_type": "execute_result"
    }
   ],
   "source": [
    "llm.invoke(\"Hello, how are you?\")"
   ]
  },
  {
   "cell_type": "markdown",
   "metadata": {},
   "source": [
    "### SQLDatabaseToolkit\n",
    "\n",
    "- Natural Language to SQL Translation: This toolkit allows users to interact with databases using natural language rather than having to write SQL queries directly.\n",
    "\n",
    "- Ready-made Tools: The get_tools() method provides several useful tools, including:\n",
    "    - **sql_db_query**: Executes SQL queries against your database\n",
    "    - **sql_db_schema**: Retrieves the database schema\n",
    "    - **sql_db_list_tables**: Lists available tables\n",
    "    - And other database interaction tools\n",
    "\n",
    "- Integration with LLMs: By providing the language model (llm) to the toolkit, it can leverage the LLM's capabilities to understand user requests and generate appropriate SQL.\n",
    "\n",
    "- Building SQL Agents: These tools are typically used to create an agent that can handle database-related tasks through conversation, making database interactions more accessible to non-technical users."
   ]
  },
  {
   "cell_type": "code",
   "execution_count": 22,
   "metadata": {},
   "outputs": [
    {
     "name": "stdout",
     "output_type": "stream",
     "text": [
      "Available tools:\n",
      "sql_db_query\n",
      "sql_db_schema\n",
      "sql_db_list_tables\n",
      "sql_db_query_checker\n"
     ]
    }
   ],
   "source": [
    "from langchain_community.agent_toolkits import SQLDatabaseToolkit\n",
    "\n",
    "toolkit = SQLDatabaseToolkit(db=db, llm=llm) ## takes db and llm model.\n",
    "\n",
    "tools = toolkit.get_tools()\n",
    "\n",
    "print(\"Available tools:\")\n",
    "for tool in tools:\n",
    "    print(tool.name)"
   ]
  },
  {
   "cell_type": "code",
   "execution_count": 23,
   "metadata": {},
   "outputs": [],
   "source": [
    "for tool in tools:\n",
    "    # Check if the tool's name is \"sql_db_list_tables\"\n",
    "    if tool.name == \"sql_db_list_tables\":\n",
    "        list_tables_tool = tool\n",
    "        break"
   ]
  },
  {
   "cell_type": "code",
   "execution_count": 24,
   "metadata": {},
   "outputs": [],
   "source": [
    "for tool in tools:\n",
    "    # Check if the tool's name is \"sql_db_schema\"\n",
    "    if tool.name == \"sql_db_schema\":\n",
    "        # If found, assign it to get_schema_tool\n",
    "        get_schema_tool = tool\n",
    "        break "
   ]
  },
  {
   "cell_type": "code",
   "execution_count": 25,
   "metadata": {},
   "outputs": [
    {
     "data": {
      "text/plain": [
       "RunnableBinding(bound=ChatGroq(client=<groq.resources.chat.completions.Completions object at 0x10f621e80>, async_client=<groq.resources.chat.completions.AsyncCompletions object at 0x10f6442f0>, model_name='llama3-8b-8192', model_kwargs={}, groq_api_key=SecretStr('**********')), kwargs={'tools': [{'type': 'function', 'function': {'name': 'sql_db_schema', 'description': 'Input to this tool is a comma-separated list of tables, output is the schema and sample rows for those tables. Be sure that the tables actually exist by calling sql_db_list_tables first! Example Input: table1, table2, table3', 'parameters': {'properties': {'table_names': {'description': \"A comma-separated list of the table names for which to return the schema. Example input: 'table1, table2, table3'\", 'type': 'string'}}, 'required': ['table_names'], 'type': 'object'}}}]}, config={}, config_factories=[])"
      ]
     },
     "execution_count": 25,
     "metadata": {},
     "output_type": "execute_result"
    }
   ],
   "source": [
    "llm_to_get_schema=llm.bind_tools([get_schema_tool])\n",
    "llm_to_get_schema"
   ]
  },
  {
   "cell_type": "markdown",
   "metadata": {},
   "source": [
    "### Building custom tool"
   ]
  },
  {
   "cell_type": "code",
   "execution_count": 26,
   "metadata": {},
   "outputs": [],
   "source": [
    "from langchain.tools import tool\n",
    "\n",
    "# The @tool Decorator: This marks the function as a LangChain tool, making it available for use by a language model agent. \n",
    "# Tools in LangChain are functions that agents can call to perform specific tasks.\n",
    "@tool\n",
    "def query_to_database(query: str) -> str:\n",
    "    \"\"\"\n",
    "        Execute a SQL query against the database and return the result.\n",
    "        If the query is invalid or returns no result, an error message will be returned.\n",
    "        In case of an error, the user is advised to rewrite the query and try again.\n",
    "    \"\"\"\n",
    "    \n",
    "    # runs the query and if it is invalid or returns no result, gracefully handles it will return an error message.\n",
    "    result = db.run_no_throw(query) \n",
    "    \n",
    "    \n",
    "    if not result:\n",
    "        return \"No result returned from the query. Please try again.\"\n",
    "    return result"
   ]
  },
  {
   "cell_type": "code",
   "execution_count": 27,
   "metadata": {},
   "outputs": [
    {
     "data": {
      "text/plain": [
       "\"[(1, 'Sunny', 'Savita', 'sunny.sv@abc.com', '2023-06-01', 50000.0), (2, 'Arhun', 'Meheta', 'arhun.m@gmail.com', '2022-04-15', 60000.0), (3, 'Alice', 'Johnson', 'alice.johnson@jpg.com', '2021-09-30', 55000.0), (4, 'Bob', 'Brown', 'bob.brown@uio.com', '2020-01-20', 45000.0)]\""
      ]
     },
     "execution_count": 27,
     "metadata": {},
     "output_type": "execute_result"
    }
   ],
   "source": [
    "# Example of using the tool\n",
    "query_to_database.invoke(\"select * from employees\")"
   ]
  },
  {
   "cell_type": "code",
   "execution_count": 28,
   "metadata": {},
   "outputs": [
    {
     "data": {
      "text/plain": [
       "AIMessage(content='', additional_kwargs={'tool_calls': [{'id': 'call_0b4j', 'function': {'arguments': '{\"query\":\"SELECT * FROM employees\"}', 'name': 'query_to_database'}, 'type': 'function'}]}, response_metadata={'token_usage': {'completion_tokens': 70, 'prompt_tokens': 946, 'total_tokens': 1016, 'completion_time': 0.058333333, 'prompt_time': 0.142222564, 'queue_time': 0.25851171700000003, 'total_time': 0.200555897}, 'model_name': 'llama3-8b-8192', 'system_fingerprint': 'fp_dadc9d6142', 'finish_reason': 'tool_calls', 'logprobs': None}, id='run-41cef6cd-2b74-4f73-9403-1764b86f17fe-0', tool_calls=[{'name': 'query_to_database', 'args': {'query': 'SELECT * FROM employees'}, 'id': 'call_0b4j', 'type': 'tool_call'}], usage_metadata={'input_tokens': 946, 'output_tokens': 70, 'total_tokens': 1016})"
      ]
     },
     "execution_count": 28,
     "metadata": {},
     "output_type": "execute_result"
    }
   ],
   "source": [
    "## Tool binding\n",
    "\"\"\"\n",
    "First, it binds the query_to_database tool to the language model (LLM).\n",
    "This essentially gives the LLM access to the database query functionality.\n",
    "\"\"\"\n",
    "llm_with_tools = llm.bind_tools([query_to_database])\n",
    "\n",
    "# Now, when the LLM is asked to show all employees, it can use the query_to_database tool to execute the query.\n",
    "llm_with_tools.invoke(\"Show all the employees\") # it executes \"select * from employees;\"\n"
   ]
  },
  {
   "cell_type": "code",
   "execution_count": 29,
   "metadata": {},
   "outputs": [],
   "source": [
    "# Suppress all warnings\n",
    "import warnings\n",
    "warnings.filterwarnings(\"ignore\")\n",
    "\n",
    "from typing import Annotated, Literal\n",
    "from langchain_core.messages import AIMessage\n",
    "from langchain_core.pydantic_v1 import BaseModel, Field\n",
    "from typing_extensions import TypedDict\n",
    "from langgraph.graph import END, StateGraph, START\n",
    "from langgraph.graph.message import AnyMessage, add_messages\n",
    "from typing import Any\n",
    "from langchain_core.messages import ToolMessage\n",
    "from langchain_core.runnables import RunnableLambda, RunnableWithFallbacks\n",
    "from langgraph.prebuilt import ToolNode"
   ]
  },
  {
   "cell_type": "code",
   "execution_count": 30,
   "metadata": {},
   "outputs": [],
   "source": [
    "from langchain_core.prompts import ChatPromptTemplate\n",
    "\n",
    "\"\"\"\n",
    "System Prompt: The query_check_system string defines the role and task for the LLM. \n",
    "It instructs the model to act as a SQL expert and outlines specific common mistakes to look for in SQL queries.\n",
    "\"\"\"\n",
    "query_check_system = \"\"\"\n",
    "\n",
    "You are a SQL expert. Carefully review the SQL query for common mistakes, including:\n",
    "\n",
    "Issues with NULL handling (e.g., NOT IN with NULLs)\n",
    "Improper use of UNION instead of UNION ALL\n",
    "Incorrect use of BETWEEN for exclusive ranges\n",
    "Data type mismatches or incorrect casting\n",
    "Quoting identifiers improperly\n",
    "Incorrect number of arguments in functions\n",
    "Errors in JOIN conditions\n",
    "\n",
    "If you find any mistakes, rewrite the query to fix them. If it's correct, reproduce it as is.\n",
    "\n",
    "\"\"\"\n",
    "\n",
    "\n",
    "\"\"\"\n",
    " The ChatPromptTemplate.from_messages method creates a prompt template that combines the system message with a placeholder for user messages. \n",
    " This allows for dynamic input where the user can provide a SQL query for review.\n",
    "\"\"\"\n",
    "query_check_prompt = ChatPromptTemplate.from_messages([(\"system\", query_check_system), (\"placeholder\", \"{query}\")])\n",
    "\n",
    "\n",
    "\"\"\"\n",
    "Combining with Tools: \n",
    "The line check_generated_query = query_check_prompt | llm_with_tools \n",
    "combines the prompt template with the LLM that has access to the database tools. This means that when the LLM processes a query, \n",
    "it can also utilize the query_to_database tool if needed.\n",
    "\"\"\"\n",
    "check_generated_query = query_check_prompt | llm_with_tools"
   ]
  },
  {
   "cell_type": "code",
   "execution_count": 31,
   "metadata": {},
   "outputs": [
    {
     "data": {
      "text/plain": [
       "AIMessage(content='', additional_kwargs={'tool_calls': [{'id': 'call_caby', 'function': {'arguments': '{\"query\":\"SELECT * FROM table_name WHERE condition\"}', 'name': 'query_to_database'}, 'type': 'function'}]}, response_metadata={'token_usage': {'completion_tokens': 73, 'prompt_tokens': 1039, 'total_tokens': 1112, 'completion_time': 0.060833333, 'prompt_time': 0.129709263, 'queue_time': 0.237009065, 'total_time': 0.190542596}, 'model_name': 'llama3-8b-8192', 'system_fingerprint': 'fp_179b0f92c9', 'finish_reason': 'tool_calls', 'logprobs': None}, id='run-4012f1be-734b-453a-a3d4-4baaa681e789-0', tool_calls=[{'name': 'query_to_database', 'args': {'query': 'SELECT * FROM table_name WHERE condition'}, 'id': 'call_caby', 'type': 'tool_call'}], usage_metadata={'input_tokens': 1039, 'output_tokens': 73, 'total_tokens': 1112})"
      ]
     },
     "execution_count": 31,
     "metadata": {},
     "output_type": "execute_result"
    }
   ],
   "source": [
    "check_generated_query.invoke({\"messages\": [(\"user\", \"select * from employees;\")]})"
   ]
  },
  {
   "cell_type": "code",
   "execution_count": 32,
   "metadata": {},
   "outputs": [
    {
     "data": {
      "text/plain": [
       "AIMessage(content='', additional_kwargs={'tool_calls': [{'id': 'call_0zns', 'function': {'arguments': '{\"query\":\"SELECT * FROM table WHERE column = \\'value\\'\"}', 'name': 'query_to_database'}, 'type': 'function'}]}, response_metadata={'token_usage': {'completion_tokens': 82, 'prompt_tokens': 1039, 'total_tokens': 1121, 'completion_time': 0.068333333, 'prompt_time': 0.129759093, 'queue_time': 0.235014175, 'total_time': 0.198092426}, 'model_name': 'llama3-8b-8192', 'system_fingerprint': 'fp_179b0f92c9', 'finish_reason': 'tool_calls', 'logprobs': None}, id='run-09836305-f98c-44a5-910c-c5e17e81752f-0', tool_calls=[{'name': 'query_to_database', 'args': {'query': \"SELECT * FROM table WHERE column = 'value'\"}, 'id': 'call_0zns', 'type': 'tool_call'}], usage_metadata={'input_tokens': 1039, 'output_tokens': 82, 'total_tokens': 1121})"
      ]
     },
     "execution_count": 32,
     "metadata": {},
     "output_type": "execute_result"
    }
   ],
   "source": [
    "# Some incorrect queries which will we still get the correct result\n",
    "check_generated_query.invoke({\"messages\": [(\"user\", \"SELECT +++ FROM Employees LIMITs 5;\")]})"
   ]
  },
  {
   "cell_type": "code",
   "execution_count": 33,
   "metadata": {},
   "outputs": [
    {
     "data": {
      "text/plain": [
       "AIMessage(content='', additional_kwargs={'tool_calls': [{'id': 'call_ffkf', 'function': {'arguments': '{\"query\":\"SELECT * FROM users WHERE age BETWEEN 18 AND 30\"}', 'name': 'query_to_database'}, 'type': 'function'}]}, response_metadata={'token_usage': {'completion_tokens': 78, 'prompt_tokens': 1039, 'total_tokens': 1117, 'completion_time': 0.065, 'prompt_time': 0.130024622, 'queue_time': 0.236530541, 'total_time': 0.195024622}, 'model_name': 'llama3-8b-8192', 'system_fingerprint': 'fp_179b0f92c9', 'finish_reason': 'tool_calls', 'logprobs': None}, id='run-60ccaa8f-f5bd-43dd-af5a-84cc73d1edaa-0', tool_calls=[{'name': 'query_to_database', 'args': {'query': 'SELECT * FROM users WHERE age BETWEEN 18 AND 30'}, 'id': 'call_ffkf', 'type': 'tool_call'}], usage_metadata={'input_tokens': 1039, 'output_tokens': 78, 'total_tokens': 1117})"
      ]
     },
     "execution_count": 33,
     "metadata": {},
     "output_type": "execute_result"
    }
   ],
   "source": [
    "check_generated_query.invoke({\"messages\": [(\"user\", \"SELECT everything FROM Employees LIMITs 5;\")]})"
   ]
  },
  {
   "cell_type": "markdown",
   "metadata": {},
   "source": [
    "Explanation:\n",
    "\n",
    "Class Definition:\n",
    "- The SubmitFinalAnswer class inherits from BaseModel, which is likely part of a data validation library (such as Pydantic). This class is designed to encapsulate the final answer that will be submitted to the user.\n",
    "- The class has a single attribute, final_answer, which is a string. The Field(...) function is used to define this attribute, indicating that it is required (due to the ellipsis ...) and providing a description for clarity.\n",
    "Tool Binding:\n",
    "- The line llm_with_final_answer = llm.bind_tools([SubmitFinalAnswer]) binds the SubmitFinalAnswer class as a tool to the language model (LLM). This means that the LLM can now use this class to format and submit final answers to users.\n",
    "\n",
    "Why is this useful?\n",
    "- Structured Response: By encapsulating the final answer in a class, you ensure that the response adheres to a specific structure. This can help with validation and consistency in how answers are presented to users.\n",
    "- Integration with LLM: Binding this class to the LLM allows the model to easily generate and submit final answers as part of its interaction with users. This can streamline the process of providing feedback or results based on previous queries.\n",
    "- Enhanced Clarity: The description provided in the Field function helps clarify the purpose of the final_answer attribute, making the code more understandable for other developers or users interacting with the model.\n",
    "- Potential for Expansion: This structure allows for easy expansion in the future. If you need to add more attributes or methods related to the final answer, you can do so within this class without disrupting the overall architecture.\n",
    "\n",
    "Overall, this code snippet enhances the functionality of the LLM by providing a clear and structured way to submit final answers to users, improving the user experience and ensuring that responses are well-formed."
   ]
  },
  {
   "cell_type": "code",
   "execution_count": 34,
   "metadata": {},
   "outputs": [],
   "source": [
    "# Defining the Class for formatted output\n",
    "\n",
    "class SubmitFinalAnswer(BaseModel):\n",
    "    \"\"\"Submit the final answer to the user based on the query results.\"\"\"\n",
    "    final_answer: str = Field(..., description=\"The final answer to the user's question.\")\n",
    "    \n",
    "llm_with_final_answer = llm.bind_tools([SubmitFinalAnswer])"
   ]
  },
  {
   "cell_type": "code",
   "execution_count": 35,
   "metadata": {},
   "outputs": [],
   "source": [
    "query_gen_system_prompt = \"\"\"You are a SQL expert with a strong attention to detail.Given an input question, output a syntactically correct SQLite query to run, then look at the results of the query and return the answer.\n",
    "\n",
    "1. DO NOT call any tool besides SubmitFinalAnswer to submit the final answer. When generating the query:\n",
    "\n",
    "2. Output the SQL query that answers the input question without a tool call.\n",
    "\n",
    "3. Unless the user specifies a specific number of examples they wish to obtain, always limit your query to at most 5 results.\n",
    "\n",
    "4. You can order the results by a relevant column to return the most interesting examples in the database.\n",
    "\n",
    "5. Never query for all the columns from a specific table, only ask for the relevant columns given the question.\n",
    "\n",
    "6. If you get an error while executing a query, rewrite the query and try again.\n",
    "\n",
    "7. If you get an empty result set, you should try to rewrite the query to get a non-empty result set.\n",
    "\n",
    "8. NEVER make stuff up if you don't have enough information to answer the query... just say you don't have enough information.\n",
    "\n",
    "9. If you have enough information to answer the input question, simply invoke the appropriate tool to submit the final answer to the user.\n",
    "\n",
    "10. DO NOT make any DML statements (INSERT, UPDATE, DELETE, DROP etc.) to the database. Do not return any sql query except answer.\n",
    "\n",
    "11. rewrite this promote with very simple english and little shorter manner also \"\"\"\n",
    "\n",
    "\n",
    "\"\"\"\n",
    "The ChatPromptTemplate.from_messages method is used to create a structured prompt that combines \n",
    "a system message (which defines the role and task of the LLM) with a placeholder for user input. \n",
    "This structure helps the LLM understand its role and the context in which it operates.\n",
    "\"\"\"\n",
    "query_gen_prompt = ChatPromptTemplate.from_messages([(\"system\", query_gen_system_prompt), (\"placeholder\", \"{messages}\")])\n",
    "\n",
    "\n",
    "\"\"\"\n",
    "binds the prompt template to the LLM that has access to the SubmitFinalAnswer tool. \n",
    "This means that when the LLM generates a query and has an answer, it can use this tool to submit the final answer to the user.\n",
    "\"\"\"\n",
    "query_generator = query_gen_prompt | llm_with_final_answer"
   ]
  },
  {
   "cell_type": "code",
   "execution_count": 36,
   "metadata": {},
   "outputs": [
    {
     "data": {
      "text/plain": [
       "AIMessage(content='', additional_kwargs={'tool_calls': [{'id': 'call_hjpe', 'function': {'arguments': '{\"final_answer\":\"SELECT * FROM employee\"}', 'name': 'SubmitFinalAnswer'}, 'type': 'function'}]}, response_metadata={'token_usage': {'completion_tokens': 78, 'prompt_tokens': 1230, 'total_tokens': 1308, 'completion_time': 0.065, 'prompt_time': 0.1633216, 'queue_time': 0.241190951, 'total_time': 0.2283216}, 'model_name': 'llama3-8b-8192', 'system_fingerprint': 'fp_dadc9d6142', 'finish_reason': 'tool_calls', 'logprobs': None}, id='run-85b28324-cf0e-497f-951e-37670ff52b3b-0', tool_calls=[{'name': 'SubmitFinalAnswer', 'args': {'final_answer': 'SELECT * FROM employee'}, 'id': 'call_hjpe', 'type': 'tool_call'}], usage_metadata={'input_tokens': 1230, 'output_tokens': 78, 'total_tokens': 1308})"
      ]
     },
     "execution_count": 36,
     "metadata": {},
     "output_type": "execute_result"
    }
   ],
   "source": [
    "# Example of using the query generator\n",
    "query_generator.invoke({\"messages\":[(\"ccan you fetch the data from employee table?\")]})"
   ]
  },
  {
   "cell_type": "code",
   "execution_count": 37,
   "metadata": {},
   "outputs": [
    {
     "data": {
      "text/plain": [
       "AIMessage(content='', additional_kwargs={'tool_calls': [{'id': 'call_0d52', 'function': {'arguments': '{\"final_answer\":\"SELECT COUNT(*) FROM employees\"}', 'name': 'SubmitFinalAnswer'}, 'type': 'function'}]}, response_metadata={'token_usage': {'completion_tokens': 72, 'prompt_tokens': 1231, 'total_tokens': 1303, 'completion_time': 0.06, 'prompt_time': 0.153502771, 'queue_time': 0.238273561, 'total_time': 0.213502771}, 'model_name': 'llama3-8b-8192', 'system_fingerprint': 'fp_a97cfe35ae', 'finish_reason': 'tool_calls', 'logprobs': None}, id='run-be532a8d-0cde-458f-b339-781e24d2db1f-0', tool_calls=[{'name': 'SubmitFinalAnswer', 'args': {'final_answer': 'SELECT COUNT(*) FROM employees'}, 'id': 'call_0d52', 'type': 'tool_call'}], usage_metadata={'input_tokens': 1231, 'output_tokens': 72, 'total_tokens': 1303})"
      ]
     },
     "execution_count": 37,
     "metadata": {},
     "output_type": "execute_result"
    }
   ],
   "source": [
    "query_generator.invoke({\"messages\":[(\"can you give the count of employees in the company?\")]})"
   ]
  },
  {
   "cell_type": "markdown",
   "metadata": {},
   "source": [
    "### Creating the Nodes"
   ]
  },
  {
   "cell_type": "code",
   "execution_count": 38,
   "metadata": {},
   "outputs": [],
   "source": [
    "\"\"\"\n",
    "Purpose: This class defines the structure of the State object, which holds the conversation messages.\n",
    "\n",
    "Attributes: It has a single attribute, messages, which is a list of messages (of type AnyMessage). \n",
    "\n",
    "The Annotated type suggests that there may be additional processing or validation applied to the messages.\n",
    "\"\"\"\n",
    "class State(TypedDict):\n",
    "    messages: Annotated[list[AnyMessage], add_messages]\n",
    "    \n",
    "    \n",
    "\"\"\"\n",
    "Purpose: This function handles errors that occur during tool calls.\n",
    "\n",
    "Parameters: It takes the state object as input.\n",
    "\n",
    "Error Handling: It retrieves the error message from the state and the list of tool calls from the last message.\n",
    "\n",
    "Return Value: It returns a dictionary containing messages that inform the user of the error, \n",
    "including the specific tool call that failed. Each error message is associated with the corresponding tool call ID.\n",
    "\n",
    "Usage: This function is useful for providing feedback to users when something goes wrong during a tool invocation.\n",
    "\"\"\"\n",
    "def handle_tool_error(state:State):\n",
    "    error = state.get(\"error\") \n",
    "    tool_calls = state[\"messages\"][-1].tool_calls\n",
    "    \n",
    "    return { \"messages\": [ ToolMessage(content=f\"Error: {repr(error)}\\n please fix your mistakes.\",tool_call_id=tc[\"id\"],) for tc in tool_calls ] }\n",
    "\n",
    "\"\"\"\n",
    "Purpose: This function creates a node that can execute a list of tools and handle errors with a fallback mechanism.\n",
    "\n",
    "Parameters: It takes a list of tools as input.\n",
    "\n",
    "Return Value: It returns a ToolNode that is configured to use the provided tools and includes a \n",
    "fallback to the handle_tool_error function if an error occurs during execution.\n",
    "\n",
    "Usage: This setup allows for robust error handling in a system where multiple tools may be called, \n",
    "ensuring that users receive appropriate feedback if something goes wrong.\n",
    "\"\"\"\n",
    "def create_node_from_tool_with_fallback(tools:list)-> RunnableWithFallbacks[Any, dict]:\n",
    "    return ToolNode(tools).with_fallbacks([RunnableLambda(handle_tool_error)], exception_key=\"error\")"
   ]
  },
  {
   "cell_type": "code",
   "execution_count": 39,
   "metadata": {},
   "outputs": [],
   "source": [
    "# Node Creation: This line creates a node named list_tables using the create_node_from_tool_with_fallback function.\n",
    "# Tool Binding: The argument [list_tables_tool] indicates that this node will use the list_tables_tool, \n",
    "# which is presumably a tool designed to list the tables in a database.\n",
    "list_tables=create_node_from_tool_with_fallback([list_tables_tool])\n",
    "\n",
    "# Node Creation: This line creates a node named get_schema in a similar manner.\n",
    "# Tool Binding: The argument [get_schema_tool] indicates that this node will use the get_schema_tool, \n",
    "# which is intended to retrieve the database schema.\n",
    "get_schema=create_node_from_tool_with_fallback([get_schema_tool])\n",
    "\n",
    "# Node Creation: This line creates a node named query_database.\n",
    "# Tool Binding: The argument [query_to_database] indicates that this node will use the query_to_database tool, \n",
    "# which is responsible for executing SQL queries against the database.\n",
    "query_database=create_node_from_tool_with_fallback([query_to_database])"
   ]
  },
  {
   "cell_type": "code",
   "execution_count": 40,
   "metadata": {},
   "outputs": [],
   "source": [
    "\"\"\"\n",
    "Purpose: This function is designed to be called when the first tool (in this case, sql_db_list_tables) is invoked in the conversation.\n",
    "\n",
    "Parameters: It takes a state parameter, which represents the current state of the conversation.\n",
    "\n",
    "Return Value: It returns a dictionary containing a list of messages. \n",
    "The message includes a tool call to sql_db_list_tables, which is likely intended to retrieve a list of tables from a SQL database.\n",
    "\"\"\"\n",
    "\n",
    "def first_tool_call(state: State) -> dict[str, list[AIMessage]]:\n",
    "    \"\"\"\n",
    "    This function is called when the first tool is called.\n",
    "    It takes the state of the conversation and returns a dictionary with the tool call and the list of messages.\n",
    "    \"\"\"\n",
    "    return {\"messages\": [AIMessage(content=\"\", tool_calls=[{\"name\":\"sql_db_list_tables\", \"args\":{}, \"id\": \"tool_call_id\"}])]}\n",
    "    "
   ]
  },
  {
   "cell_type": "code",
   "execution_count": 41,
   "metadata": {},
   "outputs": [],
   "source": [
    "\"\"\"\n",
    "The primary purpose of this function is to validate or check the SQL query provided by the user. \n",
    "It leverages the check_generated_query mechanism, which is presumably set up to analyze SQL queries for correctness and provide feedback.\n",
    "\"\"\"\n",
    "def check_the_given_query(state: State):\n",
    "    print(f\"Checking the given query: {state}\")\n",
    "    \n",
    "    \"\"\"\n",
    "    It invokes method on check_generated_query, passing in a dictionary that contains the last message from the state object.\n",
    "    state[\"messages\"][-1] retrieves the most recent message in the conversation, which is likely the SQL query that needs to be checked.\n",
    "    \"\"\"\n",
    "    return {\"messages\": [check_generated_query.invoke({\"messages\": [state[\"messages\"][-1]]})]}"
   ]
  },
  {
   "cell_type": "markdown",
   "metadata": {},
   "source": [
    "- Query Generation: The primary purpose of this function is to generate a SQL query based on the user's input and the current state of the conversation.\n",
    "\n",
    "- Error Handling: The function includes logic to catch cases where the language model (LLM) might \"hallucinate\" and call an incorrect tool. This is important for maintaining the integrity of the interaction and ensuring that users receive accurate feedback.\n",
    "\n",
    "- User Guidance: By providing clear error messages, the function helps guide users in correcting their mistakes, reinforcing the correct usage of tools in the system."
   ]
  },
  {
   "cell_type": "code",
   "execution_count": 42,
   "metadata": {},
   "outputs": [],
   "source": [
    "# This state contains information about the current conversation, including user messages.\n",
    "def generation_query(state: State):\n",
    "    # calls the invoke method on query_generator, passing the current state. \n",
    "    # This generates a message that includes the SQL query based on the user's input.\n",
    "    message = query_generator.invoke(state)\n",
    "    \n",
    "    # Sometimes, the LLM will hallucinate and call the wrong tool. We need to catch this and return an error message.\n",
    "    tool_messages = [] # To collect any error messages related to tool calls.\n",
    "    if message.tool_calls:\n",
    "        for tc in message.tool_calls:\n",
    "            # Other tools, like query_to_database, are used for different purposes \n",
    "            # (e.g., generating or executing SQL queries) and are not meant to be called directly \n",
    "            # in the context of submitting answers.\n",
    "            # This ensures that the LLM only calls the SubmitFinalAnswer tool \n",
    "            # when it's ready to submit the final answer.\n",
    "\n",
    "            if tc[\"name\"] != \"SubmitFinalAnswer\":\n",
    "                tool_messages.append(\n",
    "                    ToolMessage(\n",
    "                        content=f\"\"\"Error: The tool {tc['name']} is not valid. Please fix your mistakes. \n",
    "                        Remember to only call SubmitFinalAnswer to submit the final answer. \n",
    "                        Generated queries should be outputted WITHOUT a tool call.\"\"\",\n",
    "                    ),\n",
    "                    tool_call_id = tc[\"id\"]\n",
    "                )    \n",
    "    else:\n",
    "        tool_messages = []\n",
    "    \n",
    "    return {\"messages\": [message] + tool_messages}"
   ]
  },
  {
   "cell_type": "code",
   "execution_count": 43,
   "metadata": {},
   "outputs": [],
   "source": [
    "def should_continue(state: State):\n",
    "    print(f\"State from should_continue: {state}\")\n",
    "    messages = state[\"messages\"]\n",
    "    last_message = messages[-1]\n",
    "    \n",
    "    print(f\"Last message: {last_message}\")\n",
    "    \n",
    "    if getattr(last_message, \"tool_calls\", None): # checks if the last message has any associated tool calls\n",
    "        print(\"Last message is a tool call. Ending the conversation.\")\n",
    "        \n",
    "        return END\n",
    "    elif last_message.content.startswith(\"Error: \"):\n",
    "        print(\"Last message is an error. regenrating the query.\")\n",
    "        # suggesting that the system should return to the query generation phase to correct the issue.\n",
    "        return \"query_qen\"\n",
    "    else:\n",
    "        print(\"Last message is a normal message. Continuing the conversation.\")\n",
    "        # the system should proceed to the next step in the query correction or generation process.\n",
    "        return \"correct_query\""
   ]
  },
  {
   "cell_type": "code",
   "execution_count": 44,
   "metadata": {},
   "outputs": [],
   "source": [
    "\"\"\"\n",
    "the llm_get_schema function retrieves the database schema by invoking the LLM with the current \n",
    "conversation messages.\n",
    "\"\"\"\n",
    "\n",
    "def llm_get_schema(state: State):\n",
    "    print(f\"Getting the llm_get_schema: {state}\")\n",
    "    # It invoke method on llm_to_get_schema, passing the list of messages from the current state.\n",
    "    # This invocation is expected to trigger the LLM to process the messages and \n",
    "    # generate a response related to the database schema.\n",
    "    messages = state[\"messages\"]\n",
    "    response = llm_to_get_schema.invoke(messages) # \"llm_to_get_schema\" output is the schema and sample rows for those tables # \"llm_to_get_schema\" output is the schema and sample rows for those tables\n",
    "    \n",
    "    return {\"messages\": [response]}"
   ]
  },
  {
   "cell_type": "markdown",
   "metadata": {},
   "source": [
    "## Building Agent Workflow"
   ]
  },
  {
   "cell_type": "code",
   "execution_count": 45,
   "metadata": {},
   "outputs": [
    {
     "data": {
      "text/plain": [
       "<langgraph.graph.state.StateGraph at 0x10f9fe7b0>"
      ]
     },
     "execution_count": 45,
     "metadata": {},
     "output_type": "execute_result"
    }
   ],
   "source": [
    "\"\"\"\n",
    "This initializes a new StateGraph object called workflow. The StateGraph is likely a structure that \n",
    "manages different states and transitions between them based on certain conditions or events. \n",
    "The State parameter indicates that the graph will use the State type to track the current state of the conversation or process.\n",
    "\"\"\"\n",
    "workflow = StateGraph(State)\n",
    "\n",
    "\"\"\"\n",
    "Node Name: \"first_tool_call\" is the name of the node.\n",
    "Function: first_tool_call is the function that will be executed when this node is reached. \n",
    "This function likely initiates the first tool call in the workflow.\n",
    "\"\"\"\n",
    "workflow.add_node(\"first_tool_call\", first_tool_call) # invokes sql_db_list_tables tool from SQLDatabaseToolkit\n",
    "workflow.add_node(\"list_tables_tool\", list_tables) # get list of tables from the database\n",
    "workflow.add_node(\"model_get_schema\", llm_get_schema) # get schema of the database from the model\n",
    "workflow.add_node(\"get_schema_tool\", get_schema) # get schema of the database\n",
    "workflow.add_node(\"query_gen\", generation_query) # generate the query\n",
    "workflow.add_node(\"correct_query\", check_the_given_query) # check the given query\n",
    "workflow.add_node(\"execute_query\", query_database) # execute the query"
   ]
  },
  {
   "cell_type": "code",
   "execution_count": 46,
   "metadata": {},
   "outputs": [
    {
     "data": {
      "text/plain": [
       "<langgraph.graph.state.StateGraph at 0x10f9fe7b0>"
      ]
     },
     "execution_count": 46,
     "metadata": {},
     "output_type": "execute_result"
    }
   ],
   "source": [
    "\"\"\"\n",
    "The provided code snippet sets up the edges (or transitions) between nodes in a workflow \n",
    "represented by a StateGraph. This defines how the system moves from one state to another \n",
    "based on specific actions or conditions.\n",
    "\"\"\"\n",
    "\n",
    "# Start the workflow.\n",
    "workflow.add_edge(START, \"first_tool_call\") # directed edge from the START node to the \"first_tool_call\" node\n",
    "\n",
    "# This indicates that the next action is to list the tables in the database.\n",
    "workflow.add_edge(\"first_tool_call\", \"list_tables_tool\") # get list of tables from the database\n",
    "\n",
    "# This indicates that the next action is to get the schema of the database from the model.\n",
    "workflow.add_edge(\"list_tables_tool\", \"model_get_schema\") # get schema of the database from the model\n",
    "\n",
    "# responsible for interacting with the language model to retrieve the schema.\n",
    "workflow.add_edge(\"model_get_schema\", \"get_schema_tool\")\n",
    "\n",
    "# This indicates that the next action is to generate the query.\n",
    "workflow.add_edge(\"get_schema_tool\", \"query_gen\") # generate the query\n",
    "\n",
    "# This indicates that the next action is to check the given query.\n",
    "workflow.add_conditional_edges(\"query_gen\", should_continue, { END: END,\"correct_query\": \"correct_query\"}) # check the given query\n",
    "\n",
    "# This indicates that the next action is to execute the query.\n",
    "workflow.add_edge(\"correct_query\", \"execute_query\") # execute the query\n",
    "\n",
    "# This indicates that the next action is to generate the query.\n",
    "workflow.add_edge(\"execute_query\", \"query_gen\") # generate the query"
   ]
  },
  {
   "cell_type": "code",
   "execution_count": 47,
   "metadata": {},
   "outputs": [],
   "source": [
    "app = workflow.compile()"
   ]
  },
  {
   "cell_type": "code",
   "execution_count": 48,
   "metadata": {},
   "outputs": [
    {
     "data": {
      "image/png": "[encoded data removed]",
      "text/plain": [
       "<IPython.core.display.Image object>"
      ]
     },
     "metadata": {},
     "output_type": "display_data"
    }
   ],
   "source": [
    "from IPython.display import Image, display\n",
    "from langchain_core.runnables.graph import MermaidDrawMethod\n",
    "\n",
    "display(\n",
    "    Image(\n",
    "        app.get_graph().draw_mermaid_png(\n",
    "            draw_method=MermaidDrawMethod.API,\n",
    "        )\n",
    "    )\n",
    ")"
   ]
  },
  {
   "cell_type": "code",
   "execution_count": 49,
   "metadata": {},
   "outputs": [],
   "source": [
    "from langchain_core.messages import HumanMessage\n",
    "\n",
    "query = {\n",
    "    \"messages\": [\n",
    "        HumanMessage(content=\"how many order are there which is more than 300 rupees?\")\n",
    "    ]\n",
    "}"
   ]
  },
  {
   "cell_type": "code",
   "execution_count": 50,
   "metadata": {},
   "outputs": [
    {
     "name": "stdout",
     "output_type": "stream",
     "text": [
      "Getting the llm_get_schema: {'messages': [HumanMessage(content='how many order are there which is more than 300 rupees?', additional_kwargs={}, response_metadata={}, id='6738dd8c-02bc-4b1e-8c0e-7263fc8a845d'), AIMessage(content='', additional_kwargs={}, response_metadata={}, id='a90f2b23-b9bf-4a3b-a004-358b49ab2d1a', tool_calls=[{'name': 'sql_db_list_tables', 'args': {}, 'id': 'tool_call_id', 'type': 'tool_call'}]), ToolMessage(content='customers, employees, orders', name='sql_db_list_tables', id='053ef46e-b796-4e5c-b308-469e894d5bca', tool_call_id='tool_call_id')]}\n",
      "State from should_continue: {'messages': [HumanMessage(content='how many order are there which is more than 300 rupees?', additional_kwargs={}, response_metadata={}, id='6738dd8c-02bc-4b1e-8c0e-7263fc8a845d'), AIMessage(content='', additional_kwargs={}, response_metadata={}, id='a90f2b23-b9bf-4a3b-a004-358b49ab2d1a', tool_calls=[{'name': 'sql_db_list_tables', 'args': {}, 'id': 'tool_call_id', 'type': 'tool_call'}]), ToolMessage(content='customers, employees, orders', name='sql_db_list_tables', id='053ef46e-b796-4e5c-b308-469e894d5bca', tool_call_id='tool_call_id'), AIMessage(content='', additional_kwargs={'tool_calls': [{'id': 'call_s8x3', 'function': {'arguments': '{\"table_names\":\"orders\"}', 'name': 'sql_db_schema'}, 'type': 'function'}]}, response_metadata={'token_usage': {'completion_tokens': 35, 'prompt_tokens': 1057, 'total_tokens': 1092, 'completion_time': 0.029166667, 'prompt_time': 0.132457762, 'queue_time': 0.23779661, 'total_time': 0.161624429}, 'model_name': 'llama3-8b-8192', 'system_fingerprint': 'fp_179b0f92c9', 'finish_reason': 'tool_calls', 'logprobs': None}, id='run-905cefbc-7b1f-4316-abeb-690618d2e0f8-0', tool_calls=[{'name': 'sql_db_schema', 'args': {'table_names': 'orders'}, 'id': 'call_s8x3', 'type': 'tool_call'}], usage_metadata={'input_tokens': 1057, 'output_tokens': 35, 'total_tokens': 1092}), ToolMessage(content='\\nCREATE TABLE orders (\\n\\torder_id INTEGER, \\n\\tcustomer_id INTEGER NOT NULL, \\n\\torder_date TEXT NOT NULL, \\n\\tamount REAL NOT NULL, \\n\\tPRIMARY KEY (order_id), \\n\\tFOREIGN KEY(customer_id) REFERENCES customers (customer_id)\\n)\\n\\n/*\\n3 rows from orders table:\\norder_id\\tcustomer_id\\torder_date\\tamount\\n1\\t1\\t2023-12-01\\t250.75\\n2\\t2\\t2023-11-20\\t150.5\\n3\\t3\\t2023-11-25\\t300.0\\n*/', name='sql_db_schema', id='b1aebab9-69e8-4b5d-a65e-d68c171dba88', tool_call_id='call_s8x3'), AIMessage(content='', additional_kwargs={'tool_calls': [{'id': 'call_9r3h', 'function': {'arguments': '{\"final_answer\":\"There are 2 orders which are more than 300 rupees\"}', 'name': 'SubmitFinalAnswer'}, 'type': 'function'}]}, response_metadata={'token_usage': {'completion_tokens': 47, 'prompt_tokens': 1482, 'total_tokens': 1529, 'completion_time': 0.039166667, 'prompt_time': 0.182875548, 'queue_time': 0.238197314, 'total_time': 0.222042215}, 'model_name': 'llama3-8b-8192', 'system_fingerprint': 'fp_a97cfe35ae', 'finish_reason': 'tool_calls', 'logprobs': None}, id='run-92e94347-516f-4789-980a-fe0161c09bda-0', tool_calls=[{'name': 'SubmitFinalAnswer', 'args': {'final_answer': 'There are 2 orders which are more than 300 rupees'}, 'id': 'call_9r3h', 'type': 'tool_call'}], usage_metadata={'input_tokens': 1482, 'output_tokens': 47, 'total_tokens': 1529})]}\n",
      "Last message: content='' additional_kwargs={'tool_calls': [{'id': 'call_9r3h', 'function': {'arguments': '{\"final_answer\":\"There are 2 orders which are more than 300 rupees\"}', 'name': 'SubmitFinalAnswer'}, 'type': 'function'}]} response_metadata={'token_usage': {'completion_tokens': 47, 'prompt_tokens': 1482, 'total_tokens': 1529, 'completion_time': 0.039166667, 'prompt_time': 0.182875548, 'queue_time': 0.238197314, 'total_time': 0.222042215}, 'model_name': 'llama3-8b-8192', 'system_fingerprint': 'fp_a97cfe35ae', 'finish_reason': 'tool_calls', 'logprobs': None} id='run-92e94347-516f-4789-980a-fe0161c09bda-0' tool_calls=[{'name': 'SubmitFinalAnswer', 'args': {'final_answer': 'There are 2 orders which are more than 300 rupees'}, 'id': 'call_9r3h', 'type': 'tool_call'}] usage_metadata={'input_tokens': 1482, 'output_tokens': 47, 'total_tokens': 1529}\n",
      "Last message is a tool call. Ending the conversation.\n"
     ]
    }
   ],
   "source": [
    "response=app.invoke(query)"
   ]
  },
  {
   "cell_type": "code",
   "execution_count": 51,
   "metadata": {},
   "outputs": [
    {
     "data": {
      "text/plain": [
       "'There are 2 orders which are more than 300 rupees'"
      ]
     },
     "execution_count": 51,
     "metadata": {},
     "output_type": "execute_result"
    }
   ],
   "source": [
    "response[\"messages\"][-1].tool_calls[0][\"args\"][\"final_answer\"]"
   ]
  },
  {
   "cell_type": "markdown",
   "metadata": {},
   "source": [
    "### Basic Questions\n",
    "\n",
    "About Customers Table: How many customers are in the customers table? List all customers with their email addresses. Show the phone numbers of customers whose last name is \"Smith.\"\n",
    "\n",
    "About Orders Table: How many orders are in the orders table? What is the total amount of all orders combined? List all orders placed on or after \"2023-12-01.\" Using WHERE Clause: Which customers placed orders greater than $300? Show all customers whose email contains \"example.com.\"\n",
    "\n",
    "### Intermediate Questions\n",
    "\n",
    "Joins: List all orders with the customer’s first and last name. Find the total amount spent by each customer. Show orders along with customer details where the order amount is greater than $200.\n",
    "\n",
    "Aggregation: What is the average order amount? How many orders were placed by each customer? What is the highest order amount, and who placed it?\n",
    "\n",
    "Date Queries: How many orders were placed in December 2023? Show customers who have not placed any orders. Find the most recent order date in the orders table. Advanced Questions \n",
    "\n",
    "\n",
    "### Subqueries:\n",
    "\n",
    "Which customer placed the maximum number of orders? List customers who placed orders totaling more than $500. Find customers who haven't placed any orders yet. Window Functions (if supported):\n",
    "\n",
    "Rank customers based on the total amount they spent. Show the running total of order amounts by date. Error Handling/Edge Cases:\n",
    "\n",
    "What happens if a customer ID exists in orders but not in customers? How does the database behave when two customers have the same email address? Testing Agent Capabilities Complex Queries: Show the top 3 customers who spent the most money. List all customers and their total order amount, including those who haven't placed any orders (use LEFT JOIN). Find customers who placed orders only in the last 30 days."
   ]
  }
 ],
 "metadata": {
  "kernelspec": {
   "display_name": "venv",
   "language": "python",
   "name": "python3"
  },
  "language_info": {
   "codemirror_mode": {
    "name": "ipython",
    "version": 3
   },
   "file_extension": ".py",
   "mimetype": "text/x-python",
   "name": "python",
   "nbconvert_exporter": "python",
   "pygments_lexer": "ipython3",
   "version": "3.13.2"
  }
 },
 "nbformat": 4,
 "nbformat_minor": 2
}
